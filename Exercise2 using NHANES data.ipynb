{
 "cells": [
  {
   "cell_type": "markdown",
   "id": "ae452d59",
   "metadata": {},
   "source": [
    "## Practice notebook using NHANES data\n",
    "This exercise shows my progress in Visualizing Data in Python (working packages: Seaborn and Matplotlib)"
   ]
  },
  {
   "cell_type": "code",
   "execution_count": 36,
   "id": "940de458",
   "metadata": {},
   "outputs": [],
   "source": [
    "%matplotlib inline\n",
    "import matplotlib.pyplot as plt\n",
    "import seaborn as sns\n",
    "import pandas as pd\n",
    "import statsmodels.api as sm\n",
    "import numpy as np\n",
    "\n",
    "da = pd.read_csv(\"nhanes_2015_2016.csv\")"
   ]
  },
  {
   "cell_type": "code",
   "execution_count": 37,
   "id": "b90be7e5",
   "metadata": {},
   "outputs": [
    {
     "data": {
      "text/html": [
       "<div>\n",
       "<style scoped>\n",
       "    .dataframe tbody tr th:only-of-type {\n",
       "        vertical-align: middle;\n",
       "    }\n",
       "\n",
       "    .dataframe tbody tr th {\n",
       "        vertical-align: top;\n",
       "    }\n",
       "\n",
       "    .dataframe thead th {\n",
       "        text-align: right;\n",
       "    }\n",
       "</style>\n",
       "<table border=\"1\" class=\"dataframe\">\n",
       "  <thead>\n",
       "    <tr style=\"text-align: right;\">\n",
       "      <th></th>\n",
       "      <th>SEQN</th>\n",
       "      <th>ALQ101</th>\n",
       "      <th>ALQ110</th>\n",
       "      <th>ALQ130</th>\n",
       "      <th>SMQ020</th>\n",
       "      <th>RIAGENDR</th>\n",
       "      <th>RIDAGEYR</th>\n",
       "      <th>RIDRETH1</th>\n",
       "      <th>DMDCITZN</th>\n",
       "      <th>DMDEDUC2</th>\n",
       "      <th>...</th>\n",
       "      <th>BPXSY2</th>\n",
       "      <th>BPXDI2</th>\n",
       "      <th>BMXWT</th>\n",
       "      <th>BMXHT</th>\n",
       "      <th>BMXBMI</th>\n",
       "      <th>BMXLEG</th>\n",
       "      <th>BMXARML</th>\n",
       "      <th>BMXARMC</th>\n",
       "      <th>BMXWAIST</th>\n",
       "      <th>HIQ210</th>\n",
       "    </tr>\n",
       "  </thead>\n",
       "  <tbody>\n",
       "    <tr>\n",
       "      <th>0</th>\n",
       "      <td>83732</td>\n",
       "      <td>1.0</td>\n",
       "      <td>NaN</td>\n",
       "      <td>1.0</td>\n",
       "      <td>1</td>\n",
       "      <td>1</td>\n",
       "      <td>62</td>\n",
       "      <td>3</td>\n",
       "      <td>1.0</td>\n",
       "      <td>5.0</td>\n",
       "      <td>...</td>\n",
       "      <td>124.0</td>\n",
       "      <td>64.0</td>\n",
       "      <td>94.8</td>\n",
       "      <td>184.5</td>\n",
       "      <td>27.8</td>\n",
       "      <td>43.3</td>\n",
       "      <td>43.6</td>\n",
       "      <td>35.9</td>\n",
       "      <td>101.1</td>\n",
       "      <td>2.0</td>\n",
       "    </tr>\n",
       "    <tr>\n",
       "      <th>1</th>\n",
       "      <td>83733</td>\n",
       "      <td>1.0</td>\n",
       "      <td>NaN</td>\n",
       "      <td>6.0</td>\n",
       "      <td>1</td>\n",
       "      <td>1</td>\n",
       "      <td>53</td>\n",
       "      <td>3</td>\n",
       "      <td>2.0</td>\n",
       "      <td>3.0</td>\n",
       "      <td>...</td>\n",
       "      <td>140.0</td>\n",
       "      <td>88.0</td>\n",
       "      <td>90.4</td>\n",
       "      <td>171.4</td>\n",
       "      <td>30.8</td>\n",
       "      <td>38.0</td>\n",
       "      <td>40.0</td>\n",
       "      <td>33.2</td>\n",
       "      <td>107.9</td>\n",
       "      <td>NaN</td>\n",
       "    </tr>\n",
       "    <tr>\n",
       "      <th>2</th>\n",
       "      <td>83734</td>\n",
       "      <td>1.0</td>\n",
       "      <td>NaN</td>\n",
       "      <td>NaN</td>\n",
       "      <td>1</td>\n",
       "      <td>1</td>\n",
       "      <td>78</td>\n",
       "      <td>3</td>\n",
       "      <td>1.0</td>\n",
       "      <td>3.0</td>\n",
       "      <td>...</td>\n",
       "      <td>132.0</td>\n",
       "      <td>44.0</td>\n",
       "      <td>83.4</td>\n",
       "      <td>170.1</td>\n",
       "      <td>28.8</td>\n",
       "      <td>35.6</td>\n",
       "      <td>37.0</td>\n",
       "      <td>31.0</td>\n",
       "      <td>116.5</td>\n",
       "      <td>2.0</td>\n",
       "    </tr>\n",
       "    <tr>\n",
       "      <th>3</th>\n",
       "      <td>83735</td>\n",
       "      <td>2.0</td>\n",
       "      <td>1.0</td>\n",
       "      <td>1.0</td>\n",
       "      <td>2</td>\n",
       "      <td>2</td>\n",
       "      <td>56</td>\n",
       "      <td>3</td>\n",
       "      <td>1.0</td>\n",
       "      <td>5.0</td>\n",
       "      <td>...</td>\n",
       "      <td>134.0</td>\n",
       "      <td>68.0</td>\n",
       "      <td>109.8</td>\n",
       "      <td>160.9</td>\n",
       "      <td>42.4</td>\n",
       "      <td>38.5</td>\n",
       "      <td>37.7</td>\n",
       "      <td>38.3</td>\n",
       "      <td>110.1</td>\n",
       "      <td>2.0</td>\n",
       "    </tr>\n",
       "    <tr>\n",
       "      <th>4</th>\n",
       "      <td>83736</td>\n",
       "      <td>2.0</td>\n",
       "      <td>1.0</td>\n",
       "      <td>1.0</td>\n",
       "      <td>2</td>\n",
       "      <td>2</td>\n",
       "      <td>42</td>\n",
       "      <td>4</td>\n",
       "      <td>1.0</td>\n",
       "      <td>4.0</td>\n",
       "      <td>...</td>\n",
       "      <td>114.0</td>\n",
       "      <td>54.0</td>\n",
       "      <td>55.2</td>\n",
       "      <td>164.9</td>\n",
       "      <td>20.3</td>\n",
       "      <td>37.4</td>\n",
       "      <td>36.0</td>\n",
       "      <td>27.2</td>\n",
       "      <td>80.4</td>\n",
       "      <td>2.0</td>\n",
       "    </tr>\n",
       "  </tbody>\n",
       "</table>\n",
       "<p>5 rows × 28 columns</p>\n",
       "</div>"
      ],
      "text/plain": [
       "    SEQN  ALQ101  ALQ110  ALQ130  SMQ020  RIAGENDR  RIDAGEYR  RIDRETH1  \\\n",
       "0  83732     1.0     NaN     1.0       1         1        62         3   \n",
       "1  83733     1.0     NaN     6.0       1         1        53         3   \n",
       "2  83734     1.0     NaN     NaN       1         1        78         3   \n",
       "3  83735     2.0     1.0     1.0       2         2        56         3   \n",
       "4  83736     2.0     1.0     1.0       2         2        42         4   \n",
       "\n",
       "   DMDCITZN  DMDEDUC2  ...  BPXSY2  BPXDI2  BMXWT  BMXHT  BMXBMI  BMXLEG  \\\n",
       "0       1.0       5.0  ...   124.0    64.0   94.8  184.5    27.8    43.3   \n",
       "1       2.0       3.0  ...   140.0    88.0   90.4  171.4    30.8    38.0   \n",
       "2       1.0       3.0  ...   132.0    44.0   83.4  170.1    28.8    35.6   \n",
       "3       1.0       5.0  ...   134.0    68.0  109.8  160.9    42.4    38.5   \n",
       "4       1.0       4.0  ...   114.0    54.0   55.2  164.9    20.3    37.4   \n",
       "\n",
       "   BMXARML  BMXARMC  BMXWAIST  HIQ210  \n",
       "0     43.6     35.9     101.1     2.0  \n",
       "1     40.0     33.2     107.9     NaN  \n",
       "2     37.0     31.0     116.5     2.0  \n",
       "3     37.7     38.3     110.1     2.0  \n",
       "4     36.0     27.2      80.4     2.0  \n",
       "\n",
       "[5 rows x 28 columns]"
      ]
     },
     "execution_count": 37,
     "metadata": {},
     "output_type": "execute_result"
    }
   ],
   "source": [
    "da.head()"
   ]
  },
  {
   "cell_type": "markdown",
   "id": "befd4821",
   "metadata": {},
   "source": [
    "## Question 1\n",
    "\n",
    "Relabel the marital status variable DMDMARTL to have brief but informative character labels. Then construct a frequency table of these values for all people, then for women only, and for men only. Then construct these three frequency tables using only people whose age is between 30 and 40."
   ]
  },
  {
   "cell_type": "code",
   "execution_count": 39,
   "id": "64013d4d",
   "metadata": {},
   "outputs": [
    {
     "name": "stdout",
     "output_type": "stream",
     "text": [
      "Married                2780\n",
      "Never married          1004\n",
      "Divorced                579\n",
      "Living with partner     527\n",
      "Widowed                 396\n",
      "Missing                 261\n",
      "Separated               186\n",
      "Refused                   2\n",
      "Name: DMDMARTLx, dtype: int64\n"
     ]
    }
   ],
   "source": [
    "da[\"DMDMARTLx\"] = da.DMDMARTL.replace({1: \"Married\", 2: \"Widowed\", 3: \"Divorced\", 4: \"Separated\", 5: \"Never married\", 6: \"Living with partner\", 77: \"Refused\", 99: \"Don't Know\"})\n",
    "da[\"DMDMARTLx\"] = da.DMDMARTLx.fillna(\"Missing\")\n",
    "x = da.DMDMARTLx.value_counts()\n",
    "print(x)"
   ]
  },
  {
   "cell_type": "code",
   "execution_count": 40,
   "id": "754a4eac",
   "metadata": {},
   "outputs": [
    {
     "name": "stdout",
     "output_type": "stream",
     "text": [
      "Female    2976\n",
      "Male      2759\n",
      "Name: RIAGENDRx, dtype: int64\n"
     ]
    }
   ],
   "source": [
    "da[\"RIAGENDRx\"] = da.RIAGENDR.replace({1: \"Male\", 2: \"Female\"})\n",
    "print(da.RIAGENDRx.value_counts())"
   ]
  },
  {
   "cell_type": "code",
   "execution_count": 41,
   "id": "9ca35453",
   "metadata": {},
   "outputs": [
    {
     "name": "stdout",
     "output_type": "stream",
     "text": [
      "(30, 40]    932\n",
      "Name: agegrp, dtype: int64\n"
     ]
    }
   ],
   "source": [
    "da[\"agegrp\"] = pd.cut(da.RIDAGEYR, [30,40])\n",
    "print(da.agegrp.value_counts())"
   ]
  },
  {
   "cell_type": "code",
   "execution_count": 42,
   "id": "cb2f419d",
   "metadata": {},
   "outputs": [
    {
     "data": {
      "text/plain": [
       "agegrp    RIAGENDRx  DMDMARTLx          \n",
       "(30, 40]  Female     Married                258\n",
       "                     Never married           97\n",
       "                     Living with partner     57\n",
       "                     Divorced                43\n",
       "                     Separated               17\n",
       "                     Widowed                  2\n",
       "          Male       Married                258\n",
       "                     Never married           89\n",
       "                     Living with partner     72\n",
       "                     Divorced                24\n",
       "                     Separated               12\n",
       "                     Widowed                  2\n",
       "                     Refused                  1\n",
       "Name: DMDMARTLx, dtype: int64"
      ]
     },
     "execution_count": 42,
     "metadata": {},
     "output_type": "execute_result"
    }
   ],
   "source": [
    "dx = da.groupby([\"agegrp\", \"RIAGENDRx\"])[\"DMDMARTLx\"]\n",
    "dx.value_counts()"
   ]
  },
  {
   "cell_type": "code",
   "execution_count": 43,
   "id": "632fce60",
   "metadata": {},
   "outputs": [
    {
     "name": "stdout",
     "output_type": "stream",
     "text": [
      "DMDMARTLx            Divorced  Living with partner  Married  Missing  \\\n",
      "allagegrp RIAGENDRx                                                    \n",
      "(18, 30]  Female         11.0                114.0    158.0     56.0   \n",
      "          Male            2.0                 95.0    104.0     72.0   \n",
      "(30, 40]  Female         43.0                 57.0    258.0      NaN   \n",
      "          Male           24.0                 72.0    258.0      NaN   \n",
      "(40, 50]  Female         69.0                 37.0    288.0      NaN   \n",
      "          Male           34.0                 33.0    282.0      NaN   \n",
      "(50, 60]  Female         83.0                 32.0    257.0      NaN   \n",
      "          Male           57.0                 34.0    296.0      NaN   \n",
      "(60, 70]  Female         85.0                 19.0    212.0      NaN   \n",
      "          Male           55.0                 22.0    291.0      NaN   \n",
      "(70, 80]  Female         59.0                  3.0    130.0      NaN   \n",
      "          Male           57.0                  9.0    246.0      NaN   \n",
      "\n",
      "DMDMARTLx            Never married  Refused  Separated  Widowed  \n",
      "allagegrp RIAGENDRx                                              \n",
      "(18, 30]  Female             259.0      NaN       11.0      NaN  \n",
      "          Male               262.0      NaN        7.0      2.0  \n",
      "(30, 40]  Female              97.0      NaN       17.0      2.0  \n",
      "          Male                89.0      1.0       12.0      2.0  \n",
      "(40, 50]  Female              63.0      NaN       33.0     12.0  \n",
      "          Male                39.0      NaN       11.0      2.0  \n",
      "(50, 60]  Female              42.0      1.0       27.0     28.0  \n",
      "          Male                47.0      NaN       10.0     10.0  \n",
      "(60, 70]  Female              38.0      NaN       22.0     65.0  \n",
      "          Male                38.0      NaN       14.0     17.0  \n",
      "(70, 80]  Female              21.0      NaN        8.0    189.0  \n",
      "          Male                 9.0      NaN       14.0     67.0  \n"
     ]
    }
   ],
   "source": [
    "da[\"allagegrp\"] = pd.cut(da.RIDAGEYR, [18, 30, 40, 50, 60, 70, 80])\n",
    "agm = da.groupby([\"allagegrp\",\"RIAGENDRx\"])[\"DMDMARTLx\"]\n",
    "agm_counts = agm.value_counts()\n",
    "result = agm_counts.unstack() #this part was made to be able to print the whole frequency table\n",
    "print(result)"
   ]
  },
  {
   "cell_type": "code",
   "execution_count": 44,
   "id": "415a518a",
   "metadata": {},
   "outputs": [],
   "source": [
    "#Here I will change the labels from the Educational variable\n",
    "#Since I will use that variable with the RIAGENDRw and RIAGENDRm later\n",
    "\n",
    "da[\"DMDEDUC2x\"] = da.DMDEDUC2.replace({1: \"<9\", 2: \"9-11\", 3: \"HS/GED\", 4: \"Some college/AA\", 5: \"College\", \n",
    "                                       7: \"Refused\", 9: \"Don't know\"})\n",
    "da[\"DMDEDUC2x\"] = da.DMDEDUC2x.fillna(\"Missing\")"
   ]
  },
  {
   "cell_type": "markdown",
   "id": "09d45ac2",
   "metadata": {},
   "source": [
    "## Question 2\n",
    "\n",
    "Restricting to the female population, stratify the subjects into age bands no wider than ten years, and construct the distribution of marital status within each age band.  Within each age band, present the distribution in terms of proportions that must sum to 1."
   ]
  },
  {
   "cell_type": "code",
   "execution_count": 45,
   "id": "a2b41449",
   "metadata": {},
   "outputs": [
    {
     "name": "stdout",
     "output_type": "stream",
     "text": [
      "DMDMARTLx            Divorced  Living with partner  Married  Missing  \\\n",
      "allagegrp RIAGENDRx                                                    \n",
      "(18, 30]  Female         11.0                114.0    158.0     56.0   \n",
      "(30, 40]  Female         43.0                 57.0    258.0      NaN   \n",
      "(40, 50]  Female         69.0                 37.0    288.0      NaN   \n",
      "(50, 60]  Female         83.0                 32.0    257.0      NaN   \n",
      "(60, 70]  Female         85.0                 19.0    212.0      NaN   \n",
      "(70, 80]  Female         59.0                  3.0    130.0      NaN   \n",
      "\n",
      "DMDMARTLx            Never married  Refused  Separated  Widowed  \n",
      "allagegrp RIAGENDRx                                              \n",
      "(18, 30]  Female             259.0      NaN       11.0      NaN  \n",
      "(30, 40]  Female              97.0      NaN       17.0      2.0  \n",
      "(40, 50]  Female              63.0      NaN       33.0     12.0  \n",
      "(50, 60]  Female              42.0      1.0       27.0     28.0  \n",
      "(60, 70]  Female              38.0      NaN       22.0     65.0  \n",
      "(70, 80]  Female              21.0      NaN        8.0    189.0  \n"
     ]
    }
   ],
   "source": [
    "RIAGENDRw = da.loc[da['RIAGENDRx'] == \"Female\"]\n",
    "ONLYW = RIAGENDRw.groupby([\"allagegrp\",\"RIAGENDRx\"])[\"DMDMARTLx\"] \n",
    "ONLYW_count = ONLYW.value_counts()\n",
    "ONLYW_result = ONLYW_count.unstack()\n",
    "print(ONLYW_result)"
   ]
  },
  {
   "cell_type": "markdown",
   "id": "42d4fec2",
   "metadata": {},
   "source": [
    "The **RIAGENDRw.groupby()** means that the groupby method will  performs the operation on the DataFrame RIAGENDRw \n",
    "\n",
    "The square brackets [\"DMDMARTLx\"] after the grouping columns specifies the column(s) on which to perform the aggregation operation. \n"
   ]
  },
  {
   "cell_type": "code",
   "execution_count": 46,
   "id": "83760a20",
   "metadata": {},
   "outputs": [
    {
     "name": "stdout",
     "output_type": "stream",
     "text": [
      "DMDMARTLx            Divorced  Living with partner  Married  Missing  Never married  Refused  Separated  Widowed\n",
      "allagegrp RIAGENDRx                                                                                             \n",
      "(18, 30]  Female        0.018                0.187    0.259    0.092          0.425      NaN      0.018      NaN\n",
      "(30, 40]  Female        0.091                0.120    0.544      NaN          0.205      NaN      0.036    0.004\n",
      "(40, 50]  Female        0.137                0.074    0.574      NaN          0.125      NaN      0.066    0.024\n",
      "(50, 60]  Female        0.177                0.068    0.547      NaN          0.089    0.002      0.057    0.060\n",
      "(60, 70]  Female        0.193                0.043    0.481      NaN          0.086      NaN      0.050    0.147\n",
      "(70, 80]  Female        0.144                0.007    0.317      NaN          0.051      NaN      0.020    0.461\n",
      "DMDMARTLx\n",
      "Divorced               0.759472\n",
      "Living with partner    0.499637\n",
      "Married                2.722058\n",
      "Missing                0.091954\n",
      "Never married          0.982176\n",
      "Refused                0.002128\n",
      "Separated              0.246510\n",
      "Widowed                0.696066\n",
      "dtype: float64\n"
     ]
    }
   ],
   "source": [
    "RIAGENDRw = da.loc[da['RIAGENDRx'] == \"Female\"]\n",
    "ONLYW = RIAGENDRw.groupby([\"allagegrp\",\"RIAGENDRx\"])[\"DMDMARTLx\"] \n",
    "ONLYW_count = ONLYW.value_counts()\n",
    "ONLYW_result = ONLYW_count.unstack()\n",
    "ONLYW_result = ONLYW_result.apply(lambda x: x/x.sum(), axis=1) # Normalize within each stratum to get proportions\n",
    "print(ONLYW_result.to_string(float_format=\"%.3f\"))  # Limit display to 3 decimal places\n",
    "total = ONLYW_result.sum()\n",
    "print(total)"
   ]
  },
  {
   "cell_type": "markdown",
   "id": "1482464f",
   "metadata": {},
   "source": [
    "__Q2b.__ Repeat the construction for males."
   ]
  },
  {
   "cell_type": "code",
   "execution_count": 47,
   "id": "1e70816b",
   "metadata": {},
   "outputs": [
    {
     "name": "stdout",
     "output_type": "stream",
     "text": [
      "DMDMARTLx            Divorced  Living with partner  Married  Missing  Never married  Refused  Separated  Widowed\n",
      "allagegrp RIAGENDRx                                                                                             \n",
      "(18, 30]  Male          0.004                0.175    0.191    0.132          0.482      NaN      0.013    0.004\n",
      "(30, 40]  Male          0.052                0.157    0.563      NaN          0.194    0.002      0.026    0.004\n",
      "(40, 50]  Male          0.085                0.082    0.703      NaN          0.097      NaN      0.027    0.005\n",
      "(50, 60]  Male          0.126                0.075    0.652      NaN          0.104      NaN      0.022    0.022\n",
      "(60, 70]  Male          0.126                0.050    0.666      NaN          0.087      NaN      0.032    0.039\n",
      "(70, 80]  Male          0.142                0.022    0.612      NaN          0.022      NaN      0.035    0.167\n",
      "DMDMARTLx\n",
      "Divorced               0.534066\n",
      "Living with partner    0.561753\n",
      "Married                3.387564\n",
      "Missing                0.132353\n",
      "Never married          0.986066\n",
      "Refused                0.002183\n",
      "Separated              0.155389\n",
      "Widowed                0.240626\n",
      "dtype: float64\n"
     ]
    }
   ],
   "source": [
    "RIAGENDRm = da.loc[da['RIAGENDRx'] == \"Male\"]\n",
    "ONLYM = RIAGENDRm.groupby([\"allagegrp\",\"RIAGENDRx\"])[\"DMDMARTLx\"] \n",
    "ONLYM_count = ONLYM.value_counts()\n",
    "ONLYM_result = ONLYM_count.unstack()\n",
    "ONLYM_result = ONLYM_result.apply(lambda x: x/x.sum(), axis=1) # Normalize within each stratum to get proportions\n",
    "print(ONLYM_result.to_string(float_format=\"%.3f\"))  # Limit display to 3 decimal places\n",
    "total = ONLYM_result.sum()\n",
    "print(total)"
   ]
  },
  {
   "cell_type": "markdown",
   "id": "5fef0040",
   "metadata": {},
   "source": [
    "## Question 3\n",
    "\n",
    "Construct a histogram of the distribution of heights using the BMXHT variable in the NHANES sample."
   ]
  },
  {
   "cell_type": "code",
   "execution_count": 48,
   "id": "dc897b65",
   "metadata": {},
   "outputs": [
    {
     "data": {
      "text/plain": [
       "<seaborn.axisgrid.FacetGrid at 0x7fd6c19dd070>"
      ]
     },
     "execution_count": 48,
     "metadata": {},
     "output_type": "execute_result"
    },
    {
     "data": {
      "text/plain": [
       "<Figure size 864x360 with 0 Axes>"
      ]
     },
     "metadata": {},
     "output_type": "display_data"
    },
    {
     "data": {
      "image/png": "[encoded data removed]",
      "text/plain": [
       "<Figure size 360x360 with 1 Axes>"
      ]
     },
     "metadata": {
      "needs_background": "light"
     },
     "output_type": "display_data"
    },
    {
     "data": {
      "image/png": "[encoded data removed]",
      "text/plain": [
       "<Figure size 448.25x360 with 1 Axes>"
      ]
     },
     "metadata": {
      "needs_background": "light"
     },
     "output_type": "display_data"
    }
   ],
   "source": [
    "da[\"heightsg\"] = pd.cut(da.BMXHT, [120, 140, 160, 180, 200]) # Create age strata based on these cut points\n",
    "plt.figure(figsize=(12, 5))  # Make the figure wider than default (12cm wide by 5cm tall)\n",
    "sns.displot(da.BMXHT.dropna(), kde = True)\n",
    "sns.displot(da, x=\"BMXHT\", hue=\"heightsg\", element=\"step\", common_norm=False)"
   ]
  },
  {
   "cell_type": "code",
   "execution_count": 49,
   "id": "13f30791",
   "metadata": {},
   "outputs": [
    {
     "data": {
      "image/png": "[encoded data removed]",
      "text/plain": [
       "<Figure size 432x288 with 1 Axes>"
      ]
     },
     "metadata": {
      "needs_background": "light"
     },
     "output_type": "display_data"
    }
   ],
   "source": [
    "plt.hist(da.BMXHT, bins=[120, 140, 160, 180, 200], edgecolor=\"black\")\n",
    "plt.show()"
   ]
  },
  {
   "cell_type": "markdown",
   "id": "cc45b9c1",
   "metadata": {},
   "source": [
    "__Q3b.__ Make separate histograms for the heights of women and men, then make a side-by-side boxplot showing the heights of women and men."
   ]
  },
  {
   "cell_type": "code",
   "execution_count": 50,
   "id": "a7d71e86",
   "metadata": {},
   "outputs": [
    {
     "data": {
      "image/png": "[encoded data removed]",
      "text/plain": [
       "<Figure size 216x432 with 2 Axes>"
      ]
     },
     "metadata": {
      "needs_background": "light"
     },
     "output_type": "display_data"
    },
    {
     "data": {
      "text/plain": [
       "<AxesSubplot:xlabel='heightsg', ylabel='BMXHT'>"
      ]
     },
     "execution_count": 50,
     "metadata": {},
     "output_type": "execute_result"
    },
    {
     "data": {
      "image/png": "[encoded data removed]",
      "text/plain": [
       "<Figure size 864x360 with 1 Axes>"
      ]
     },
     "metadata": {
      "needs_background": "light"
     },
     "output_type": "display_data"
    }
   ],
   "source": [
    "g = sns.FacetGrid(da, row = \"RIAGENDRx\")\n",
    "g = g.map(plt.hist, \"BMXHT\") #hist = histogram\n",
    "plt.show()\n",
    "\n",
    "plt.figure(figsize=(12, 5))\n",
    "sns.boxplot(x=\"heightsg\", y=\"BMXHT\", hue=\"RIAGENDRx\", data=da)"
   ]
  },
  {
   "cell_type": "markdown",
   "id": "aaca8ac3",
   "metadata": {},
   "source": [
    "## Question 4\n",
    "\n",
    "Make a boxplot showing the distribution of within-subject differences between the first and second systolic blood pressure measurents ([BPXSY1](https://wwwn.cdc.gov/Nchs/Nhanes/2015-2016/BPX_I.htm#BPXSY1) and [BPXSY2](https://wwwn.cdc.gov/Nchs/Nhanes/2015-2016/BPX_I.htm#BPXSY2))."
   ]
  },
  {
   "cell_type": "code",
   "execution_count": 51,
   "id": "106bcf2b",
   "metadata": {},
   "outputs": [
    {
     "data": {
      "image/png": "[encoded data removed]",
      "text/plain": [
       "<Figure size 864x360 with 1 Axes>"
      ]
     },
     "metadata": {
      "needs_background": "light"
     },
     "output_type": "display_data"
    }
   ],
   "source": [
    "da['BPXSY_diff'] = da['BPXSY1'] - da['BPXSY2']\n",
    "\n",
    "# Plot the distribution of BPXSY_diff\n",
    "plt.figure(figsize=(12, 5))\n",
    "sns.boxplot(x=da['BPXSY_diff'].dropna())\n",
    "plt.xlabel('Difference between BPXSY1 and BPXSY2')\n",
    "plt.title('Distribution of within-subject differences between systolic blood pressure measurements')\n",
    "plt.show()"
   ]
  },
  {
   "cell_type": "markdown",
   "id": "792a0193",
   "metadata": {},
   "source": [
    "This code first calculates the difference between the first and second systolic blood pressure measurements, and stores the result in a new column called BPXSY_diff. Then, it creates a boxplot of the distribution of BPXSY_diff using the sns.boxplot function from the seaborn library."
   ]
  },
  {
   "cell_type": "markdown",
   "id": "130d0e20",
   "metadata": {},
   "source": [
    "__Q4a.__ What proportion of the subjects have a lower SBP on the second reading compared to the first"
   ]
  },
  {
   "cell_type": "code",
   "execution_count": 52,
   "id": "d6dd4883",
   "metadata": {},
   "outputs": [
    {
     "name": "stdout",
     "output_type": "stream",
     "text": [
      "Proportion of subjects with lower SBP on second reading: 0.42946817785527464\n"
     ]
    }
   ],
   "source": [
    "da['lower_sbp'] = (da.BPXSY1 > da.BPXSY2).astype(int)\n",
    "proportion_lower_sbp = da['lower_sbp'].mean()\n",
    "print(\"Proportion of subjects with lower SBP on second reading:\", proportion_lower_sbp)"
   ]
  },
  {
   "cell_type": "markdown",
   "id": "3a52482a",
   "metadata": {},
   "source": [
    "__Q4b.__ Make side-by-side boxplots of the two systolic blood pressure variables."
   ]
  },
  {
   "cell_type": "code",
   "execution_count": 53,
   "id": "4506bbbf",
   "metadata": {},
   "outputs": [
    {
     "data": {
      "image/png": "[encoded data removed]",
      "text/plain": [
       "<Figure size 432x288 with 1 Axes>"
      ]
     },
     "metadata": {
      "needs_background": "light"
     },
     "output_type": "display_data"
    }
   ],
   "source": [
    "bp = sns.boxplot(data=da.loc[:, [\"BPXSY1\", \"BPXSY2\"]])"
   ]
  },
  {
   "cell_type": "markdown",
   "id": "e2334119",
   "metadata": {},
   "source": [
    "## Question 5\n",
    "\n",
    "Construct a frequency table of household [DMDHHSIZ] sizes for people within each educational attainment category (the relevant variable is [DMDEDUC2](https://wwwn.cdc.gov/Nchs/Nhanes/2015-2016/DEMO_I.htm#DMDEDUC2)).  Convert the frequencies to proportions."
   ]
  },
  {
   "cell_type": "markdown",
   "id": "304d5860",
   "metadata": {},
   "source": [
    "**This code I already did it***\n",
    "da[\"DMDEDUC2x\"] = da.DMDEDUC2.replace({1: \"<9\", 2: \"9-11\", 3: \"HS/GED\", 4: \"Some college/AA\", 5: \"College\", \n",
    "                                       7: \"Refused\", 9: \"Don't know\"})\n",
    "da[\"DMDEDUC2x\"] = da.DMDEDUC2x.fillna(\"Missing\")"
   ]
  },
  {
   "cell_type": "code",
   "execution_count": 54,
   "id": "f7d9d8b8",
   "metadata": {},
   "outputs": [
    {
     "data": {
      "text/plain": [
       "Some college/AA    1621\n",
       "College            1366\n",
       "HS/GED             1186\n",
       "<9                  655\n",
       "9-11                643\n",
       "Missing             261\n",
       "Don't know            3\n",
       "Name: DMDEDUC2x, dtype: int64"
      ]
     },
     "execution_count": 54,
     "metadata": {},
     "output_type": "execute_result"
    }
   ],
   "source": [
    "da.DMDEDUC2x.value_counts()"
   ]
  },
  {
   "cell_type": "code",
   "execution_count": 55,
   "id": "30df4908",
   "metadata": {},
   "outputs": [
    {
     "name": "stdout",
     "output_type": "stream",
     "text": [
      "DMDHHSIZ            1     2     3     4     5     6     7\n",
      "DMDEDUC2x                                                \n",
      "9-11            0.117 0.222 0.163 0.152 0.146 0.114 0.086\n",
      "<9              0.110 0.224 0.147 0.133 0.148 0.108 0.130\n",
      "College         0.143 0.348 0.194 0.165 0.095 0.029 0.026\n",
      "Don't know        NaN 0.667   NaN   NaN 0.333   NaN   NaN\n",
      "HS/GED          0.153 0.271 0.171 0.162 0.110 0.066 0.068\n",
      "Missing         0.008 0.084 0.211 0.226 0.188 0.134 0.149\n",
      "Some college/AA 0.151 0.269 0.193 0.169 0.122 0.051 0.045\n",
      "DMDHHSIZ\n",
      "1    0.680735\n",
      "2    2.085138\n",
      "3    1.078841\n",
      "4    1.007655\n",
      "5    1.142281\n",
      "6    0.501663\n",
      "7    0.503686\n",
      "dtype: float64\n"
     ]
    }
   ],
   "source": [
    "EDUH = da.groupby(['DMDEDUC2x'])['DMDHHSIZ']\n",
    "EDUH = EDUH.value_counts()\n",
    "EDUH = EDUH.unstack()\n",
    "EDUH_result = EDUH.apply(lambda x: x/x.sum(), axis=1) # Normalize within each stratum to get proportions\n",
    "print(EDUH_result.to_string(float_format=\"%.3f\"))  # Limit display to 3 decimal places\n",
    "total = EDUH_result.sum()\n",
    "print(total)"
   ]
  },
  {
   "cell_type": "markdown",
   "id": "b515d698",
   "metadata": {},
   "source": [
    "__Q5b.__ Restrict the sample to people between 30 and 40 years of age.  Then calculate the median household size for women and men within each level of educational attainment."
   ]
  },
  {
   "cell_type": "code",
   "execution_count": 56,
   "id": "c96858f9",
   "metadata": {},
   "outputs": [
    {
     "name": "stdout",
     "output_type": "stream",
     "text": [
      "DMDHHSIZ                   1   2   3   4   5   6   7\n",
      "agegrp   DMDEDUC2x                                  \n",
      "(30, 40] 9-11              4  13  12  23  27  22  10\n",
      "         <9                1   4  11  14  22  18  23\n",
      "         College          26  47  62  82  30  11   6\n",
      "         HS/GED           12  15  32  39  31  26  27\n",
      "         Some college/AA  19  31  47  70  67  25  23\n"
     ]
    }
   ],
   "source": [
    "EDUH_AGE = da.groupby(['agegrp', 'DMDEDUC2x'])['DMDHHSIZ']\n",
    "EDUH_AGE = EDUH_AGE.value_counts()\n",
    "EDUH_AGE = EDUH_AGE.unstack()\n",
    "print(EDUH_AGE)"
   ]
  },
  {
   "cell_type": "markdown",
   "id": "dc8542a0",
   "metadata": {},
   "source": [
    "Remember that the important variable is the household **DMDHHSIZ**, so it will be outside all the time, because is the heart of the table"
   ]
  },
  {
   "cell_type": "code",
   "execution_count": 58,
   "id": "2dbd25fc",
   "metadata": {},
   "outputs": [
    {
     "name": "stdout",
     "output_type": "stream",
     "text": [
      "DMDHHSIZ                               1     2     3     4     5     6     7\n",
      "agegrp   DMDEDUC2x       RIAGENDRx                                          \n",
      "(30, 40] 9-11            Female      2.0   7.0   2.0   7.0  11.0   9.0   4.0\n",
      "                         Male        2.0   6.0  10.0  16.0  16.0  13.0   6.0\n",
      "         <9              Female      1.0   2.0   4.0   7.0  10.0  13.0   9.0\n",
      "                         Male        NaN   2.0   7.0   7.0  12.0   5.0  14.0\n",
      "         College         Female     14.0  23.0  34.0  49.0  18.0   7.0   4.0\n",
      "                         Male       12.0  24.0  28.0  33.0  12.0   4.0   2.0\n",
      "         HS/GED          Female      2.0   2.0  16.0  15.0  14.0  15.0  14.0\n",
      "                         Male       10.0  13.0  16.0  24.0  17.0  11.0  13.0\n",
      "         Some college/AA Female      2.0  16.0  29.0  43.0  42.0  12.0  15.0\n",
      "                         Male       17.0  15.0  18.0  27.0  25.0  13.0   8.0\n",
      "agegrp    DMDEDUC2x        RIAGENDRx\n",
      "(30, 40]  9-11             Female       5.0\n",
      "          <9               Female       5.0\n",
      "          College          Female       4.0\n",
      "          Don't know       Female       NaN\n",
      "          HS/GED           Female       5.0\n",
      "          Missing          Female       NaN\n",
      "          Some college/AA  Female       4.0\n",
      "Name: DMDHHSIZ, dtype: float64\n",
      "agegrp    DMDEDUC2x        RIAGENDRx\n",
      "(30, 40]  9-11             Male         5.0\n",
      "          <9               Male         5.0\n",
      "          College          Male         3.0\n",
      "          Don't know       Male         NaN\n",
      "          HS/GED           Male         4.0\n",
      "          Missing          Male         NaN\n",
      "          Some college/AA  Male         4.0\n",
      "Name: DMDHHSIZ, dtype: float64\n"
     ]
    }
   ],
   "source": [
    "EDUH_AGE_GENDER = da.groupby(['agegrp', 'DMDEDUC2x', 'RIAGENDRx'])['DMDHHSIZ']\n",
    "EDUH_AGE_GENDER = EDUH_AGE_GENDER.value_counts()\n",
    "EDUH_AGE_GENDER = EDUH_AGE_GENDER.unstack()\n",
    "print(EDUH_AGE_GENDER)\n",
    "\n",
    "DMDHHSIZ_ONLYW = RIAGENDRw.groupby(['agegrp', 'DMDEDUC2x', 'RIAGENDRx'])['DMDHHSIZ']\n",
    "DMDHHSIZ_ONLYW = DMDHHSIZ_ONLYW.median()\n",
    "print(DMDHHSIZ_ONLYW)\n",
    "\n",
    "DMDHHSIZ_ONLYM = RIAGENDRm.groupby(['agegrp', 'DMDEDUC2x','RIAGENDRx'])['DMDHHSIZ']\n",
    "DMDHHSIZ_ONLYM = DMDHHSIZ_ONLYM.median()\n",
    "print(DMDHHSIZ_ONLYM)"
   ]
  },
  {
   "cell_type": "markdown",
   "id": "44e581c5",
   "metadata": {},
   "source": [
    "## Question 6\n",
    "\n",
    "The participants can be clustered into \"maked variance units\" (MVU) based on every combination of the variables [SDMVSTRA](https://wwwn.cdc.gov/Nchs/Nhanes/2015-2016/DEMO_I.htm#SDMVSTRA) and [SDMVPSU](https://wwwn.cdc.gov/Nchs/Nhanes/2015-2016/DEMO_I.htm#SDMVPSU).  Calculate the mean age ([RIDAGEYR](https://wwwn.cdc.gov/Nchs/Nhanes/2015-2016/DEMO_I.htm#RIDAGEYR)), height ([BMXHT](https://wwwn.cdc.gov/Nchs/Nhanes/2015-2016/BMX_I.htm#BMXHT)), and BMI ([BMXBMI](https://wwwn.cdc.gov/Nchs/Nhanes/2015-2016/BMX_I.htm#BMXBMI)) for each gender ([RIAGENDR](https://wwwn.cdc.gov/Nchs/Nhanes/2015-2016/DEMO_I.htm#RIAGENDR)), within each MVU, and report the ratio between the largest and smallest mean (e.g. for height) across the MVUs."
   ]
  },
  {
   "cell_type": "code",
   "execution_count": 59,
   "id": "16f58e54",
   "metadata": {},
   "outputs": [
    {
     "name": "stdout",
     "output_type": "stream",
     "text": [
      "{'RIDAGEYR': 1.2415174236702988, 'BMXHT': 1.1156831181003426, 'BMXBMI': 1.1868727251805677}\n"
     ]
    }
   ],
   "source": [
    "# Create MVUs based on the combination of SDMVSTRA and SDMVPSU\n",
    "da['MVU'] = da.SDMVSTRA + da.SDMVPSU\n",
    "\n",
    "# Group the data by MVU and RIAGENDR to calculate the mean of each variable\n",
    "grouped_mvu_gender = da.groupby(['MVU', 'RIAGENDRx'])\n",
    "mean_by_mvu_gender = grouped_mvu_gender[['RIDAGEYR', 'BMXHT', 'BMXBMI']].mean()\n",
    "\n",
    "# Reset the index to make it easier to work with the data\n",
    "mean_by_mvu_gender = mean_by_mvu_gender.reset_index()\n",
    "\n",
    "# Calculate the ratio of the largest mean to the smallest mean for each variable\n",
    "ratios = {}\n",
    "for var in ['RIDAGEYR', 'BMXHT', 'BMXBMI']:\n",
    "    max_mean = mean_by_mvu_gender[var].max()\n",
    "    min_mean = mean_by_mvu_gender[var].min()\n",
    "    ratios[var] = max_mean / min_mean\n",
    "\n",
    "# Print the ratios\n",
    "print(ratios)"
   ]
  },
  {
   "cell_type": "code",
   "execution_count": 60,
   "id": "17784adf",
   "metadata": {
    "scrolled": true
   },
   "outputs": [
    {
     "name": "stdout",
     "output_type": "stream",
     "text": [
      "                             RIDAGEYR       BMXHT     BMXBMI\n",
      "RIAGENDRx SDMVSTRA SDMVPSU                                  \n",
      "Female    119      1        47.663265  159.570408  30.052041\n",
      "                   2        52.987952  159.244578  27.849398\n",
      "          120      1        43.636364  155.402041  32.419388\n",
      "                   2        43.736111  159.218056  27.400000\n",
      "          121      1        44.397959  158.871579  30.856842\n",
      "                   2        44.376344  160.229032  26.470968\n",
      "          122      1        42.897436  161.315385  29.447436\n",
      "                   2        47.333333  157.231111  26.611111\n",
      "          123      1        44.841121  162.059615  29.905769\n",
      "                   2        46.457447  160.476596  30.641489\n",
      "          124      1        51.664000  158.788710  29.533065\n",
      "                   2        42.541667  162.853521  28.640845\n",
      "          125      1        50.900901  160.762385  30.385321\n",
      "                   2        51.660000  160.021429  28.564286\n",
      "          126      1        46.229167  160.387500  31.262500\n",
      "                   2        47.205882  160.892000  29.612121\n",
      "          127      1        49.694444  157.422430  32.189720\n",
      "                   2        51.486239  159.022936  30.770642\n",
      "          128      1        55.638462  156.339063  32.303125\n",
      "                   2        45.589744  160.437179  27.491026\n",
      "          129      1        45.329787  156.900000  29.019149\n",
      "                   2        43.500000  161.034259  29.429630\n",
      "          130      1        47.810526  161.977895  30.700000\n",
      "                   2        50.833333  160.060577  31.490385\n",
      "          131      1        54.893617  161.989362  30.061702\n",
      "                   2        45.000000  161.673810  32.984127\n",
      "          132      1        43.210526  161.508421  29.848421\n",
      "                   2        51.700000  159.138281  30.540625\n",
      "          133      1        45.105882  158.295122  27.959259\n",
      "                   2        47.063158  158.627368  29.000000\n",
      "Male      119      1        47.861111  172.741667  26.958333\n",
      "                   2        54.363636  172.906818  27.160465\n",
      "          120      1        43.130000  169.537755  30.939175\n",
      "                   2        45.219178  173.075342  27.727397\n",
      "          121      1        46.750000  172.177885  29.416505\n",
      "                   2        42.063158  174.764516  26.273118\n",
      "          122      1        44.653061  173.998969  28.528866\n",
      "                   2        44.320000  170.332323  25.744444\n",
      "          123      1        47.829787  174.315217  29.231522\n",
      "                   2        52.126582  174.454430  28.811392\n",
      "          124      1        50.750000  172.109009  28.614414\n",
      "                   2        48.245614  174.291228  27.714035\n",
      "          125      1        55.165289  173.631092  29.727731\n",
      "                   2        49.705882  174.456863  29.143564\n",
      "          126      1        48.416667  175.149398  29.033333\n",
      "                   2        48.666667  174.713043  29.039130\n",
      "          127      1        53.137931  171.545349  31.062353\n",
      "                   2        54.070588  173.366667  30.557831\n",
      "          128      1        53.673267  169.325000  31.749000\n",
      "                   2        45.822785  172.400000  26.835443\n",
      "          129      1        43.922222  171.094318  26.493182\n",
      "                   2        45.775510  173.138298  28.961702\n",
      "          130      1        50.516854  176.974157  30.337079\n",
      "                   2        50.535354  175.061224  29.237755\n",
      "          131      1        53.140187  175.610476  28.259615\n",
      "                   2        46.778846  175.091346  30.077885\n",
      "          132      1        42.380435  172.534066  28.546154\n",
      "                   2        49.038760  172.809524  28.966667\n",
      "          133      1        44.054795  171.509722  27.495833\n",
      "                   2        47.489796  171.179167  27.966667\n",
      "Ratio between the largest and smallest mean of gender:1.322736197736198\n",
      "Ratio between the largest and smallest mean of height:1.1388148854012856\n",
      "Ratio between the largest and smallest mean of BMI:1.2812133917010913\n"
     ]
    }
   ],
   "source": [
    "MVU_GENDER = da.groupby(['RIAGENDRx', 'SDMVSTRA', 'SDMVPSU'])[['RIDAGEYR', 'BMXHT', 'BMXBMI']]\n",
    "MVU_GENDER_mean = MVU_GENDER.mean()\n",
    "print(MVU_GENDER_mean)\n",
    "\n",
    "print('Ratio between the largest and smallest mean of gender:' + str(max(MVU_GENDER_mean.RIDAGEYR)/min(MVU_GENDER_mean.RIDAGEYR)))\n",
    "print('Ratio between the largest and smallest mean of height:' + str(max(MVU_GENDER_mean.BMXHT)/min(MVU_GENDER_mean.BMXHT)))\n",
    "print('Ratio between the largest and smallest mean of BMI:' + str(max(MVU_GENDER_mean.BMXBMI)/min(MVU_GENDER_mean.BMXBMI)))\n"
   ]
  },
  {
   "cell_type": "code",
   "execution_count": 61,
   "id": "7aab7022",
   "metadata": {},
   "outputs": [
    {
     "name": "stdout",
     "output_type": "stream",
     "text": [
      "RIAGENDRx  SDMVSTRA  SDMVPSU  RIDAGEYR  BMXHT  BMXBMI\n",
      "Female     119       1        18        157.4  20.4      1\n",
      "                                        161.6  19.3      1\n",
      "                              58        148.7  23.2      1\n",
      "                              56        164.1  36.3      1\n",
      "                                        163.5  33.4      1\n",
      "                                                        ..\n",
      "Male       133       2        38        170.4  24.0      1\n",
      "                              37        167.1  22.3      1\n",
      "                              36        169.6  28.1      1\n",
      "                              35        177.1  24.1      1\n",
      "                              80        175.3  18.0      1\n",
      "Length: 5662, dtype: int64\n"
     ]
    }
   ],
   "source": [
    "print(MVU_GENDER.value_counts())"
   ]
  },
  {
   "cell_type": "markdown",
   "id": "f8035f9e",
   "metadata": {},
   "source": [
    "__Q6b.__ Calculate the inter-quartile range (IQR) for age, height, and BMI for each gender and each MVU.  Report the ratio between the largest and smalles IQR across the MVUs."
   ]
  },
  {
   "cell_type": "code",
   "execution_count": 63,
   "id": "4d42a038",
   "metadata": {},
   "outputs": [
    {
     "name": "stdout",
     "output_type": "stream",
     "text": [
      "\u001b[1mInter-quartile Range (IQR) of each gender for age\u001b[0m\n",
      "IQR for age in Females: RIDAGEYR    30.0\n",
      "dtype: float64\n",
      "IQR for age Males: RIDAGEYR    31.0\n",
      "dtype: float64\n"
     ]
    }
   ],
   "source": [
    "print(\"\\033[1mInter-quartile Range (IQR) of each gender for age\\033[0m\")\n",
    "\n",
    "# Calculate IQR for RIDAGEYR\n",
    "AGE_FEMALE = pd.DataFrame(RIAGENDRw, columns=[\"RIDAGEYR\"])\n",
    "q25 = AGE_FEMALE.quantile(0.25)\n",
    "q75 = AGE_FEMALE.quantile(0.75)\n",
    "AGE_FEMALE_IQR = q75 - q25\n",
    "print(\"IQR for age in Females:\", AGE_FEMALE_IQR)\n",
    "\n",
    "AGE_MALE = pd.DataFrame(RIAGENDRm, columns=[\"RIDAGEYR\"])\n",
    "q25 = AGE_MALE.quantile(0.25)\n",
    "q75 = AGE_MALE.quantile(0.75)\n",
    "AGE_MALE_IQR = q75 - q25\n",
    "print(\"IQR for age Males:\", AGE_MALE_IQR)"
   ]
  },
  {
   "cell_type": "code",
   "execution_count": 67,
   "id": "46a12c73",
   "metadata": {},
   "outputs": [
    {
     "name": "stdout",
     "output_type": "stream",
     "text": [
      "\u001b[1mInter-quartile Range (IQR) of each gender for height\u001b[0m\n",
      "IQR for height in Females: 10.100000000000023\n",
      "IQR for height in Males: 10.400000000000006\n"
     ]
    }
   ],
   "source": [
    "print(\"\\033[1mInter-quartile Range (IQR) of each gender for height\\033[0m\")\n",
    "\n",
    "# Calculate IQR for BMXHT\n",
    "HEIGHT_FEMALE = pd.DataFrame(RIAGENDRw, columns=[\"BMXHT\"])\n",
    "q25 = HEIGHT_FEMALE['BMXHT'].quantile(0.25)\n",
    "q75 = HEIGHT_FEMALE['BMXHT'].quantile(0.75)\n",
    "HEIGHT_FEMALE_IQR = q75 - q25\n",
    "print(\"IQR for height in Females:\", HEIGHT_FEMALE_IQR)\n",
    "\n",
    "HEIGHT_MALE = pd.DataFrame(RIAGENDRm, columns=[\"BMXHT\"])\n",
    "q25 = HEIGHT_MALE['BMXHT'].quantile(0.25)\n",
    "q75 = HEIGHT_MALE['BMXHT'].quantile(0.75)\n",
    "HEIGHT_MALE_IQR = q75 - q25\n",
    "print(\"IQR for height in Males:\", HEIGHT_MALE_IQR)"
   ]
  },
  {
   "cell_type": "code",
   "execution_count": 68,
   "id": "9fc1d6dd",
   "metadata": {},
   "outputs": [
    {
     "name": "stdout",
     "output_type": "stream",
     "text": [
      "\u001b[1mInter-quartile Range (IQR) of each gender for BMI\u001b[0m\n",
      "IQR for BMI in Females: 10.0\n",
      "IQR for BMI in Males: 7.575000000000003\n"
     ]
    }
   ],
   "source": [
    "print(\"\\033[1mInter-quartile Range (IQR) of each gender for BMI\\033[0m\")\n",
    "\n",
    "# Calculate IQR for BMXBMI\n",
    "BMI_FEMALE = pd.DataFrame(RIAGENDRw, columns=[\"BMXBMI\"])\n",
    "q25 = BMI_FEMALE['BMXBMI'].quantile(0.25)\n",
    "q75 = BMI_FEMALE['BMXBMI'].quantile(0.75)\n",
    "BMI_FEMALE_IQR = q75 - q25\n",
    "print(\"IQR for BMI in Females:\", BMI_FEMALE_IQR)\n",
    "\n",
    "BMI_MALE = pd.DataFrame(RIAGENDRm, columns=[\"BMXBMI\"])\n",
    "q25 = BMI_MALE['BMXBMI'].quantile(0.25)\n",
    "q75 = BMI_MALE['BMXBMI'].quantile(0.75)\n",
    "BMI_MALE_IQR = q75 - q25\n",
    "print(\"IQR for BMI in Males:\", BMI_MALE_IQR)"
   ]
  },
  {
   "cell_type": "code",
   "execution_count": null,
   "id": "e19647a7",
   "metadata": {},
   "outputs": [],
   "source": []
  }
 ],
 "metadata": {
  "kernelspec": {
   "display_name": "Python 3 (ipykernel)",
   "language": "python",
   "name": "python3"
  },
  "language_info": {
   "codemirror_mode": {
    "name": "ipython",
    "version": 3
   },
   "file_extension": ".py",
   "mimetype": "text/x-python",
   "name": "python",
   "nbconvert_exporter": "python",
   "pygments_lexer": "ipython3",
   "version": "3.9.12"
  }
 },
 "nbformat": 4,
 "nbformat_minor": 5
}
